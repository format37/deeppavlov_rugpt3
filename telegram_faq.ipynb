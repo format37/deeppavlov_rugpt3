{
 "cells": [
  {
   "cell_type": "code",
   "execution_count": 2,
   "metadata": {},
   "outputs": [],
   "source": [
    "import pandas as pd\n",
    "import json"
   ]
  },
  {
   "cell_type": "code",
   "execution_count": 3,
   "metadata": {},
   "outputs": [],
   "source": [
    "from ipywidgets import IntProgress\n",
    "from IPython.display import display"
   ]
  },
  {
   "cell_type": "markdown",
   "metadata": {},
   "source": [
    "### load data"
   ]
  },
  {
   "cell_type": "code",
   "execution_count": 9,
   "metadata": {},
   "outputs": [
    {
     "data": {
      "text/plain": [
       "{'id': 919945,\n",
       " 'type': 'message',\n",
       " 'date': '2019-11-13T13:20:26',\n",
       " 'from': 'Vladimir Korotkov',\n",
       " 'from_id': 4420223003,\n",
       " 'text': 'взять этих..'}"
      ]
     },
     "execution_count": 9,
     "metadata": {},
     "output_type": "execute_result"
    }
   ],
   "source": [
    "{'id': 919945, 'type': 'message', 'date': '2019-11-13T13:20:26', 'from': 'Vladimir Korotkov', 'from_id': 4420223003, 'text': 'взять этих..'}"
   ]
  },
  {
   "cell_type": "code",
   "execution_count": 16,
   "metadata": {},
   "outputs": [],
   "source": [
    "def load_from_telegram(telegram_file_name, group):\n",
    "    \n",
    "    with open(telegram_file_name) as f:\n",
    "        file_data = json.load(f)\n",
    "\n",
    "    prgBar = IntProgress(min = 0, max = len(file_data))\n",
    "    display(prgBar)\n",
    "        \n",
    "    df = pd.DataFrame(columns=['from','from_id','text'])\n",
    "    \n",
    "    for msg in file_data['messages']:    \n",
    "        if type(msg['text'])==type('') and len(msg['text'])>20 and len(msg['text'])<200:\n",
    "            #if user == '' or msg['from']==user:\n",
    "            df = df.append({'from':msg['from'],'from_id':msg['from_id'],'text':msg['text']}, ignore_index=True)\n",
    "                #print(msg)\n",
    "                #break\n",
    "        prgBar.value = prgBar.value + 1\n",
    "    df = df[~df.duplicated(subset=['text'], keep=False)]\n",
    "    df.to_csv('data/'+group+'.csv')\n",
    "    return df"
   ]
  },
  {
   "cell_type": "code",
   "execution_count": 4,
   "metadata": {},
   "outputs": [],
   "source": [
    "def restore_data_from_file():\n",
    "    return pd.read_csv('data.csv')"
   ]
  },
  {
   "cell_type": "code",
   "execution_count": 17,
   "metadata": {},
   "outputs": [
    {
     "data": {
      "application/vnd.jupyter.widget-view+json": {
       "model_id": "029e0788872d43f6bdc4a6c8cfa6f0cf",
       "version_major": 2,
       "version_minor": 0
      },
      "text/plain": [
       "IntProgress(value=0, max=4)"
      ]
     },
     "metadata": {},
     "output_type": "display_data"
    },
    {
     "data": {
      "text/plain": [
       "40876"
      ]
     },
     "execution_count": 17,
     "metadata": {},
     "output_type": "execute_result"
    }
   ],
   "source": [
    "df = load_from_telegram('source_data/telegram.json','-4155924')\n",
    "#df = restore_data_from_file()\n",
    "len(df)"
   ]
  },
  {
   "cell_type": "code",
   "execution_count": 14,
   "metadata": {},
   "outputs": [
    {
     "data": {
      "text/plain": [
       "<bound method NDFrame.head of                     from     from_id  \\\n",
       "0      Vladimir Korotkov  4420223003   \n",
       "1      Vladimir Korotkov  4420223003   \n",
       "2          Алексей Богин  4348007839   \n",
       "3          Алексей Богин  4348007839   \n",
       "4          Алексей Богин  4348007839   \n",
       "...                  ...         ...   \n",
       "14933      Алексей Богин  4348007839   \n",
       "14934    Александр Липин  4432196399   \n",
       "14935            Николай  5420503156   \n",
       "14936            Николай  5420503156   \n",
       "14937            Николай  5420503156   \n",
       "\n",
       "                                                    text  \n",
       "0      взять этих долбоёбов Кокорина и Мамаева, каког...  \n",
       "1      Наших тупорылых моряков за неделю закрыли в ко...  \n",
       "2      Блет не успел написать чтоб его не приводил в ...  \n",
       "3      В чем несостоятельность-то? Виновные понесли н...  \n",
       "4      Если считаешь что недостаточно строгое обратис...  \n",
       "...                                                  ...  \n",
       "14933  С.Слепаков, «Америка нас не любит».\\nПесня, ко...  \n",
       "14934                        ну да хорошо что с женщиной  \n",
       "14935  Надеюсь его маразматик папаша президентом не с...  \n",
       "14936  Тем более судя по тем документальным кадрам он...  \n",
       "14937              Лингвистический анализ а-ля Задорнов)  \n",
       "\n",
       "[14750 rows x 3 columns]>"
      ]
     },
     "execution_count": 14,
     "metadata": {},
     "output_type": "execute_result"
    }
   ],
   "source": [
    "df.head"
   ]
  },
  {
   "cell_type": "markdown",
   "metadata": {},
   "source": [
    "### prepare model"
   ]
  },
  {
   "cell_type": "code",
   "execution_count": 6,
   "metadata": {},
   "outputs": [],
   "source": [
    "from deeppavlov import build_model, configs"
   ]
  },
  {
   "cell_type": "code",
   "execution_count": 7,
   "metadata": {},
   "outputs": [
    {
     "name": "stderr",
     "output_type": "stream",
     "text": [
      "[nltk_data] Downloading package punkt to /home/alex/nltk_data...\n",
      "[nltk_data]   Package punkt is already up-to-date!\n",
      "[nltk_data] Downloading package stopwords to /home/alex/nltk_data...\n",
      "[nltk_data]   Package stopwords is already up-to-date!\n",
      "[nltk_data] Downloading package perluniprops to\n",
      "[nltk_data]     /home/alex/nltk_data...\n",
      "[nltk_data]   Package perluniprops is already up-to-date!\n",
      "[nltk_data] Downloading package nonbreaking_prefixes to\n",
      "[nltk_data]     /home/alex/nltk_data...\n",
      "[nltk_data]   Package nonbreaking_prefixes is already up-to-date!\n",
      "/home/alex/.local/lib/python3.6/site-packages/tensorflow/python/framework/dtypes.py:516: FutureWarning: Passing (type, 1) or '1type' as a synonym of type is deprecated; in a future version of numpy, it will be understood as (type, (1,)) / '(1,)type'.\n",
      "  _np_qint8 = np.dtype([(\"qint8\", np.int8, 1)])\n",
      "/home/alex/.local/lib/python3.6/site-packages/tensorflow/python/framework/dtypes.py:517: FutureWarning: Passing (type, 1) or '1type' as a synonym of type is deprecated; in a future version of numpy, it will be understood as (type, (1,)) / '(1,)type'.\n",
      "  _np_quint8 = np.dtype([(\"quint8\", np.uint8, 1)])\n",
      "/home/alex/.local/lib/python3.6/site-packages/tensorflow/python/framework/dtypes.py:518: FutureWarning: Passing (type, 1) or '1type' as a synonym of type is deprecated; in a future version of numpy, it will be understood as (type, (1,)) / '(1,)type'.\n",
      "  _np_qint16 = np.dtype([(\"qint16\", np.int16, 1)])\n",
      "/home/alex/.local/lib/python3.6/site-packages/tensorflow/python/framework/dtypes.py:519: FutureWarning: Passing (type, 1) or '1type' as a synonym of type is deprecated; in a future version of numpy, it will be understood as (type, (1,)) / '(1,)type'.\n",
      "  _np_quint16 = np.dtype([(\"quint16\", np.uint16, 1)])\n",
      "/home/alex/.local/lib/python3.6/site-packages/tensorflow/python/framework/dtypes.py:520: FutureWarning: Passing (type, 1) or '1type' as a synonym of type is deprecated; in a future version of numpy, it will be understood as (type, (1,)) / '(1,)type'.\n",
      "  _np_qint32 = np.dtype([(\"qint32\", np.int32, 1)])\n",
      "/home/alex/.local/lib/python3.6/site-packages/tensorflow/python/framework/dtypes.py:525: FutureWarning: Passing (type, 1) or '1type' as a synonym of type is deprecated; in a future version of numpy, it will be understood as (type, (1,)) / '(1,)type'.\n",
      "  np_resource = np.dtype([(\"resource\", np.ubyte, 1)])\n",
      "/home/alex/.local/lib/python3.6/site-packages/tensorboard/compat/tensorflow_stub/dtypes.py:541: FutureWarning: Passing (type, 1) or '1type' as a synonym of type is deprecated; in a future version of numpy, it will be understood as (type, (1,)) / '(1,)type'.\n",
      "  _np_qint8 = np.dtype([(\"qint8\", np.int8, 1)])\n",
      "/home/alex/.local/lib/python3.6/site-packages/tensorboard/compat/tensorflow_stub/dtypes.py:542: FutureWarning: Passing (type, 1) or '1type' as a synonym of type is deprecated; in a future version of numpy, it will be understood as (type, (1,)) / '(1,)type'.\n",
      "  _np_quint8 = np.dtype([(\"quint8\", np.uint8, 1)])\n",
      "/home/alex/.local/lib/python3.6/site-packages/tensorboard/compat/tensorflow_stub/dtypes.py:543: FutureWarning: Passing (type, 1) or '1type' as a synonym of type is deprecated; in a future version of numpy, it will be understood as (type, (1,)) / '(1,)type'.\n",
      "  _np_qint16 = np.dtype([(\"qint16\", np.int16, 1)])\n",
      "/home/alex/.local/lib/python3.6/site-packages/tensorboard/compat/tensorflow_stub/dtypes.py:544: FutureWarning: Passing (type, 1) or '1type' as a synonym of type is deprecated; in a future version of numpy, it will be understood as (type, (1,)) / '(1,)type'.\n",
      "  _np_quint16 = np.dtype([(\"quint16\", np.uint16, 1)])\n",
      "/home/alex/.local/lib/python3.6/site-packages/tensorboard/compat/tensorflow_stub/dtypes.py:545: FutureWarning: Passing (type, 1) or '1type' as a synonym of type is deprecated; in a future version of numpy, it will be understood as (type, (1,)) / '(1,)type'.\n",
      "  _np_qint32 = np.dtype([(\"qint32\", np.int32, 1)])\n",
      "/home/alex/.local/lib/python3.6/site-packages/tensorboard/compat/tensorflow_stub/dtypes.py:550: FutureWarning: Passing (type, 1) or '1type' as a synonym of type is deprecated; in a future version of numpy, it will be understood as (type, (1,)) / '(1,)type'.\n",
      "  np_resource = np.dtype([(\"resource\", np.ubyte, 1)])\n",
      "WARNING: Logging before flag parsing goes to stderr.\n",
      "W1102 11:54:14.167175 140009968957248 deprecation_wrapper.py:119] From /home/alex/.local/lib/python3.6/site-packages/deeppavlov/core/models/tf_model.py:37: The name tf.Session is deprecated. Please use tf.compat.v1.Session instead.\n",
      "\n",
      "W1102 11:54:14.168217 140009968957248 deprecation_wrapper.py:119] From /home/alex/.local/lib/python3.6/site-packages/deeppavlov/core/models/tf_model.py:222: The name tf.placeholder is deprecated. Please use tf.compat.v1.placeholder instead.\n",
      "\n",
      "W1102 11:54:14.168737 140009968957248 deprecation_wrapper.py:119] From /home/alex/.local/lib/python3.6/site-packages/deeppavlov/core/models/tf_model.py:222: The name tf.train.Optimizer is deprecated. Please use tf.compat.v1.train.Optimizer instead.\n",
      "\n",
      "W1102 11:54:14.172970 140009968957248 deprecation_wrapper.py:119] From /home/alex/.local/lib/python3.6/site-packages/bert_dp/tokenization.py:125: The name tf.gfile.GFile is deprecated. Please use tf.io.gfile.GFile instead.\n",
      "\n",
      "W1102 11:54:14.430500 140009968957248 deprecation_wrapper.py:119] From /home/alex/.local/lib/python3.6/site-packages/deeppavlov/core/models/tf_model.py:193: The name tf.train.AdamOptimizer is deprecated. Please use tf.compat.v1.train.AdamOptimizer instead.\n",
      "\n",
      "W1102 11:54:14.435952 140009968957248 deprecation_wrapper.py:119] From /home/alex/.local/lib/python3.6/site-packages/deeppavlov/models/bert/bert_squad.py:81: The name tf.ConfigProto is deprecated. Please use tf.compat.v1.ConfigProto instead.\n",
      "\n",
      "W1102 11:54:15.725972 140009968957248 deprecation_wrapper.py:119] From /home/alex/.local/lib/python3.6/site-packages/deeppavlov/models/bert/bert_squad.py:178: The name tf.placeholder_with_default is deprecated. Please use tf.compat.v1.placeholder_with_default instead.\n",
      "\n",
      "W1102 11:54:15.744157 140009968957248 deprecation_wrapper.py:119] From /home/alex/.local/lib/python3.6/site-packages/bert_dp/modeling.py:178: The name tf.variable_scope is deprecated. Please use tf.compat.v1.variable_scope instead.\n",
      "\n",
      "W1102 11:54:16.004980 140009968957248 lazy_loader.py:50] \n",
      "The TensorFlow contrib module will not be included in TensorFlow 2.0.\n",
      "For more information, please see:\n",
      "  * https://github.com/tensorflow/community/blob/master/rfcs/20180907-contrib-sunset.md\n",
      "  * https://github.com/tensorflow/addons\n",
      "  * https://github.com/tensorflow/io (for I/O related ops)\n",
      "If you depend on functionality not listed there, please file an issue.\n",
      "\n",
      "W1102 11:54:16.016732 140009968957248 deprecation.py:506] From /home/alex/.local/lib/python3.6/site-packages/bert_dp/modeling.py:366: calling dropout (from tensorflow.python.ops.nn_ops) with keep_prob is deprecated and will be removed in a future version.\n",
      "Instructions for updating:\n",
      "Please use `rate` instead of `keep_prob`. Rate should be set to `rate = 1 - keep_prob`.\n",
      "W1102 11:54:16.045951 140009968957248 deprecation.py:323] From /home/alex/.local/lib/python3.6/site-packages/bert_dp/modeling.py:680: dense (from tensorflow.python.layers.core) is deprecated and will be removed in a future version.\n",
      "Instructions for updating:\n",
      "Use keras.layers.dense instead.\n",
      "W1102 11:54:17.956458 140009968957248 deprecation.py:323] From /home/alex/.local/lib/python3.6/site-packages/deeppavlov/models/bert/bert_squad.py:166: softmax_cross_entropy_with_logits (from tensorflow.python.ops.nn_ops) is deprecated and will be removed in a future version.\n",
      "Instructions for updating:\n",
      "\n",
      "Future major versions of TensorFlow will allow gradients to flow\n",
      "into the labels input on backprop by default.\n",
      "\n",
      "See `tf.nn.softmax_cross_entropy_with_logits_v2`.\n",
      "\n",
      "W1102 11:54:17.988320 140009968957248 deprecation_wrapper.py:119] From /home/alex/.local/lib/python3.6/site-packages/deeppavlov/core/models/tf_model.py:234: The name tf.train.AdadeltaOptimizer is deprecated. Please use tf.compat.v1.train.AdadeltaOptimizer instead.\n",
      "\n",
      "W1102 11:54:31.160670 140009968957248 deprecation.py:323] From /home/alex/.local/lib/python3.6/site-packages/deeppavlov/models/bert/bert_squad.py:94: checkpoint_exists (from tensorflow.python.training.checkpoint_management) is deprecated and will be removed in a future version.\n",
      "Instructions for updating:\n",
      "Use standard file APIs to check for files with this prefix.\n"
     ]
    },
    {
     "name": "stderr",
     "output_type": "stream",
     "text": [
      "2020-11-02 11:54:31.162 INFO in 'deeppavlov.core.models.tf_model'['tf_model'] at line 51: [loading model from /home/alex/.deeppavlov/models/squad_ru_bert/model_rubert]\n",
      "I1102 11:54:31.162680 140009968957248 tf_model.py:51] [loading model from /home/alex/.deeppavlov/models/squad_ru_bert/model_rubert]\n",
      "W1102 11:54:31.164482 140009968957248 deprecation_wrapper.py:119] From /home/alex/.local/lib/python3.6/site-packages/deeppavlov/core/models/tf_model.py:54: The name tf.train.Saver is deprecated. Please use tf.compat.v1.train.Saver instead.\n",
      "\n"
     ]
    }
   ],
   "source": [
    "model = build_model(configs.squad.squad_ru_rubert_infer, download=False)"
   ]
  },
  {
   "cell_type": "code",
   "execution_count": 8,
   "metadata": {},
   "outputs": [],
   "source": [
    "def get_answer(df,question):\n",
    "    \n",
    "    # select phrases\n",
    "    pre_words = question.replace(\"?\",\"\").split(\" \")\n",
    "    words =[]\n",
    "    for word in pre_words:\n",
    "        if len(word)>2:\n",
    "            words.append(word)    \n",
    "    if len(words)==0:\n",
    "        return 'Слишком короткий запрос'    \n",
    "    \n",
    "    df = df[df.text.str.contains('|'.join(words), regex = True)]\n",
    "    \n",
    "    if len(words)==0:\n",
    "        return 'Нет данных'\n",
    "    \n",
    "    data = df.text.values.tolist()\n",
    "    \n",
    "    prgBar = IntProgress(min = 0, max = len(data))\n",
    "    display(prgBar)\n",
    "    \n",
    "    answers = pd.DataFrame(columns=['answer','score'])\n",
    "    for theme in data:\n",
    "        res = model([theme], [question])\n",
    "        answers = answers.append({'answer':res[0][0], 'score':res[2][0]}, ignore_index=True)            \n",
    "        prgBar.value = prgBar.value + 1\n",
    "        \n",
    "    max_score = answers.score.max()    \n",
    "    return answers[answers.score==max_score].iloc[0].answer"
   ]
  },
  {
   "cell_type": "code",
   "execution_count": 9,
   "metadata": {},
   "outputs": [
    {
     "data": {
      "application/vnd.jupyter.widget-view+json": {
       "model_id": "30ba22752ec445e1a44c14984a64a299",
       "version_major": 2,
       "version_minor": 0
      },
      "text/plain": [
       "IntProgress(value=0, max=33)"
      ]
     },
     "metadata": {},
     "output_type": "display_data"
    },
    {
     "data": {
      "text/plain": [
       "'придётся'"
      ]
     },
     "execution_count": 9,
     "metadata": {},
     "output_type": "execute_result"
    }
   ],
   "source": [
    "answer = get_answer(df,'Нужно ли сортировать мусор?')\n",
    "answer"
   ]
  }
 ],
 "metadata": {
  "kernelspec": {
   "display_name": "Python 3",
   "language": "python",
   "name": "python3"
  },
  "language_info": {
   "codemirror_mode": {
    "name": "ipython",
    "version": 3
   },
   "file_extension": ".py",
   "mimetype": "text/x-python",
   "name": "python",
   "nbconvert_exporter": "python",
   "pygments_lexer": "ipython3",
   "version": "3.6.9"
  }
 },
 "nbformat": 4,
 "nbformat_minor": 2
}

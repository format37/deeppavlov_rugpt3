{
 "cells": [
  {
   "cell_type": "code",
   "execution_count": null,
   "metadata": {},
   "outputs": [],
   "source": [
    "import pandas as pd\n",
    "import json"
   ]
  },
  {
   "cell_type": "code",
   "execution_count": null,
   "metadata": {},
   "outputs": [],
   "source": [
    "from ipywidgets import IntProgress\n",
    "from IPython.display import display"
   ]
  },
  {
   "cell_type": "markdown",
   "metadata": {},
   "source": [
    "### load data"
   ]
  },
  {
   "cell_type": "code",
   "execution_count": null,
   "metadata": {},
   "outputs": [],
   "source": [
    "def load_from_telegram(telegram_file_name, user = ''):\n",
    "    with open(telegram_file_name) as f:\n",
    "        file_data = json.load(f)\n",
    "\n",
    "    df = pd.DataFrame(columns=['text'])\n",
    "    for msg in file_data['messages']:    \n",
    "        if type(msg['text'])==type('') and len(msg['text'])>20 and len(msg['text'])<200:\n",
    "            if user == '' or msg['from']==user:\n",
    "                df = df.append({'text':msg['text']}, ignore_index=True)\n",
    "    df = df[~df.duplicated(subset=['text'], keep=False)]\n",
    "    df.to_csv('data.csv')\n",
    "    return df"
   ]
  },
  {
   "cell_type": "code",
   "execution_count": null,
   "metadata": {},
   "outputs": [],
   "source": [
    "def restore_data_from_file():\n",
    "    return pd.read_csv('data.csv')"
   ]
  },
  {
   "cell_type": "code",
   "execution_count": null,
   "metadata": {},
   "outputs": [],
   "source": [
    "#df = load_from_telegram('telegram.json','Vladimir Korotkov')\n",
    "df = restore_data_from_file()\n",
    "len(df)"
   ]
  },
  {
   "cell_type": "markdown",
   "metadata": {},
   "source": [
    "### prepare model"
   ]
  },
  {
   "cell_type": "code",
   "execution_count": null,
   "metadata": {},
   "outputs": [],
   "source": [
    "from deeppavlov import build_model, configs"
   ]
  },
  {
   "cell_type": "code",
   "execution_count": null,
   "metadata": {},
   "outputs": [],
   "source": [
    "model = build_model(configs.squad.squad_ru_rubert_infer, download=False)"
   ]
  },
  {
   "cell_type": "code",
   "execution_count": null,
   "metadata": {},
   "outputs": [],
   "source": [
    "def get_answer(df,question):\n",
    "    \n",
    "    # select phrases\n",
    "    pre_words = question.replace(\"?\",\"\").split(\" \")\n",
    "    words =[]\n",
    "    for word in pre_words:\n",
    "        if len(word)>2:\n",
    "            words.append(word)    \n",
    "    if len(words)==0:\n",
    "        return 'Слишком короткий запрос'    \n",
    "    \n",
    "    df = df[df.text.str.contains('|'.join(words), regex = True)]\n",
    "    \n",
    "    if len(words)==0:\n",
    "        return 'Нет данных'\n",
    "    \n",
    "    data = df.text.values.tolist()\n",
    "    \n",
    "    prgBar = IntProgress(min = 0, max = len(data))\n",
    "    display(prgBar)\n",
    "    \n",
    "    answers = pd.DataFrame(columns=['answer','score'])\n",
    "    for theme in data:\n",
    "        res = model([theme], [question])\n",
    "        answers = answers.append({'answer':res[0][0], 'score':res[2][0]}, ignore_index=True)            \n",
    "        prgBar.value = prgBar.value + 1\n",
    "        \n",
    "    max_score = answers.score.max()    \n",
    "    print('answers len',len(answers))\n",
    "    print('answers',answers.head())\n",
    "    return answers[answers.score==max_score].iloc[0].answer"
   ]
  },
  {
   "cell_type": "code",
   "execution_count": null,
   "metadata": {},
   "outputs": [],
   "source": [
    "answer = get_answer(df,'Нужно ли сортировать мусор?')\n",
    "answer"
   ]
  },
  {
   "cell_type": "code",
   "execution_count": null,
   "metadata": {},
   "outputs": [],
   "source": [
    "df.head()"
   ]
  },
  {
   "cell_type": "code",
   "execution_count": 5,
   "metadata": {},
   "outputs": [
    {
     "data": {
      "text/plain": [
       "'Как дела??'"
      ]
     },
     "execution_count": 5,
     "metadata": {},
     "output_type": "execute_result"
    }
   ],
   "source": [
    "text = \"Как дела?\"\n",
    "question = str(text)\n",
    "if '??' in question:\n",
    "    question = question.replace('??','?')\n",
    "question"
   ]
  }
 ],
 "metadata": {
  "kernelspec": {
   "display_name": "Python 3",
   "language": "python",
   "name": "python3"
  },
  "language_info": {
   "codemirror_mode": {
    "name": "ipython",
    "version": 3
   },
   "file_extension": ".py",
   "mimetype": "text/x-python",
   "name": "python",
   "nbconvert_exporter": "python",
   "pygments_lexer": "ipython3",
   "version": "3.6.9"
  }
 },
 "nbformat": 4,
 "nbformat_minor": 2
}
